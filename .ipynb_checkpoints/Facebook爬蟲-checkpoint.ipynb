{
 "cells": [
  {
   "cell_type": "code",
   "execution_count": 1,
   "id": "checked-studio",
   "metadata": {},
   "outputs": [],
   "source": [
    "from selenium import webdriver\n",
    "import time\n",
    "from bs4 import BeautifulSoup\n",
    "import pandas as pd\n",
    "import numpy as np"
   ]
  },
  {
   "cell_type": "code",
   "execution_count": 2,
   "id": "useful-convention",
   "metadata": {},
   "outputs": [],
   "source": [
    "def d(line):\n",
    "    l = '.'.join(line.split())\n",
    "    return l"
   ]
  },
  {
   "cell_type": "code",
   "execution_count": 3,
   "id": "surprised-nightmare",
   "metadata": {},
   "outputs": [
    {
     "ename": "NameError",
     "evalue": "name 'driver' is not defined",
     "output_type": "error",
     "traceback": [
      "\u001b[0;31m---------------------------------------------------------------------------\u001b[0m",
      "\u001b[0;31mNameError\u001b[0m                                 Traceback (most recent call last)",
      "\u001b[0;32m<ipython-input-3-edc6c27c0986>\u001b[0m in \u001b[0;36m<module>\u001b[0;34m\u001b[0m\n\u001b[0;32m----> 1\u001b[0;31m \u001b[0mdriver\u001b[0m\u001b[0;34m.\u001b[0m\u001b[0mquit\u001b[0m\u001b[0;34m(\u001b[0m\u001b[0;34m)\u001b[0m\u001b[0;34m\u001b[0m\u001b[0;34m\u001b[0m\u001b[0m\n\u001b[0m",
      "\u001b[0;31mNameError\u001b[0m: name 'driver' is not defined"
     ]
    }
   ],
   "source": [
    "driver.quit()"
   ]
  },
  {
   "cell_type": "code",
   "execution_count": 3,
   "id": "stainless-cover",
   "metadata": {},
   "outputs": [],
   "source": [
    "options = webdriver.ChromeOptions()\n",
    "prefs = {'profile.default_content_setting_values':{'notifications': 1}}\n",
    "options.add_experimental_option('prefs', prefs)\n",
    "\n",
    "#打開瀏覽器\n",
    "driver = webdriver.Chrome('./chromedriver',options=options)\n",
    "driver.get(\"http://www.facebook.com\")\n",
    "\n",
    "email = 'amyyang20000107@yahoo.com.tw'\n",
    "password = 'u83fu68917'\n",
    "\n",
    "#登入by class name\n",
    "input1 = driver.find_element_by_class_name('inputtext._55r1._6luy')\n",
    "input1.send_keys(email)\n",
    "\n",
    "input2 = driver.find_element_by_class_name('inputtext._55r1._6luy._9npi')\n",
    "input2.send_keys(password)\n",
    "\n",
    "driver.find_element_by_class_name('_42ft._4jy0._6lth._4jy6._4jy1.selected._51sy').click()"
   ]
  },
  {
   "cell_type": "code",
   "execution_count": 13,
   "id": "southeast-worse",
   "metadata": {},
   "outputs": [],
   "source": []
  },
  {
   "cell_type": "code",
   "execution_count": 4,
   "id": "aging-reproduction",
   "metadata": {},
   "outputs": [],
   "source": [
    "# go to specific page\n",
    "url = 'https://www.facebook.com/groups/808065716041098/?multi_permalinks=1845867072260952%2C1845828008931525%2C1845825975598395%2C1845768885604104%2C1845714092276250&notif_id=1619506442367667&notif_t=group_activity&ref=notif'\n",
    "driver.get(url)"
   ]
  },
  {
   "cell_type": "code",
   "execution_count": null,
   "id": "artificial-sweet",
   "metadata": {},
   "outputs": [],
   "source": [
    "page=0\n",
    "    \n",
    "while page <3:\n",
    "    driver.execute_script('window.scrollTo(0,document.body.scrollHeight)')\n",
    "    page +=1\n",
    "    time.sleep(5)"
   ]
  },
  {
   "cell_type": "code",
   "execution_count": 8,
   "id": "metropolitan-logging",
   "metadata": {},
   "outputs": [],
   "source": [
    "def crawl():\n",
    "    page=0\n",
    "    while page <5:\n",
    "        driver.execute_script('window.scrollTo(0,document.body.scrollHeight)')\n",
    "        page +=1\n",
    "        time.sleep(3)\n",
    "        \n",
    "        #尋找查看更多按下去\n",
    "        c= driver.find_elements_by_class_name(d('oajrlxb2 g5ia77u1 qu0x051f esr5mh6w e9989ue4 r7d6kgcz rq0escxv nhd2j8a9 nc684nl6 p7hjln8o kvgmc6g5 cxmmr5t8 oygrvhab hcukyx3x jb3vyjys rz4wbd8a qt6c0cv9 a8nywdso i1ao9s8h esuyzwwr f1sip0of lzcic4wl oo9gr5id gpro0wi8 lrazzd5p'))\n",
    "        for i in c:\n",
    "            if i.text =='查看更多':\n",
    "                try :\n",
    "                    i.click()\n",
    "                except Exception:\n",
    "                    pass\n",
    "\n",
    "    content= driver.find_elements_by_class_name(d('o9v6fnle cxmmr5t8 oygrvhab hcukyx3x c1et5uql ii04i59q'))\n",
    "    for i in content:\n",
    "        print(i.text)\n",
    "        #print()"
   ]
  },
  {
   "cell_type": "code",
   "execution_count": 9,
   "id": "cognitive-positive",
   "metadata": {},
   "outputs": [
    {
     "name": "stdout",
     "output_type": "stream",
     "text": [
      "專職投資人（航海王）\n",
      "之前媒體引用我的文章做的報導:https://finance.ettoday.net/news/1890366\n",
      "徵求交易助理:\n",
      "工作內容:\n",
      "對帳、查帳、協助處理交易例行事務。 \n",
      "工作待遇:\n",
      "35~50k。依學經歷和個人能力調整。 對帳另有對帳獎金。\n",
      "要求:\n",
      "數字感好、熟悉excel、細心、對股票有基本甚至中等程度的了解、高EQ、若有程式能力加分。 快畢業或剛畢業的新鮮人佳。\n",
      "有意應徵者請回答下列兩個問題:\n",
      "1.現在是2021年4月中，你是否有辦法用目前已公布的所有公開資訊，大概預測計算以下三家公司: A.5289宜鼎 B.3481群創 C.6150撼訊。 今年2021年Q1的eps。 預測與計算的邏輯請詳細說明論述。\n",
      "2.是否有投資經驗? 若有，最印象深刻、賺最多、賠最多 的交易經歷 請各自闡述。若無請直接寫無，有無交易經驗並不會增加或降低錄取機率。\n",
      "若對第一個問題沒有頭緒，可以參考:  shorturl.at/syCNU\n",
      "將\"財報狗-買雞排懂財務報表\"系列的多篇文章看完後，應該就能回答第一題。\n",
      "請將上述兩個問題的回答，連同個人正式履歷與自傳寄到: calolowa@gmail.com\n",
      "公司描述:\n",
      "作為Prudential plc的亞洲資產管理業務, 我們擁有整個大陸最廣闊的足跡之一, 並承諾長期為我們的客戶提供高質量的投資成果. 我們提供一系列資產類別的投資解決方案, 包括股票, 固定收入, 多資產, 基礎設施和替代品, 並代表機構和零售客戶管理超過美元的投資.…… 查看更多\n",
      "CMoney 全曜財經資訊股份有限公司 \n",
      " 招募職缺\n",
      "股市投資研究助理(實習)\n",
      " 主要工作内容\n",
      "1.國內外產業研究分析與資訊彙整\n",
      "2.撰寫產業及個股投資報告\n",
      "3.主管交辦事項\n",
      " 徵求條件 \n",
      "1.國立大學/研究所2022/6畢業之學生,每週工作至少3天\n",
      "2.對於未知事物要極具好奇心,喜歡打破砂鍋問到底!\n",
      "3.邏輯與分析能力要好,因為你會天天閱讀研究報告!\n",
      "4.必須熱愛寫文章,因為你會撰寫產業文章給上萬投資人!\n",
      "5.希望你有些許美感,懶人包與圖文訊息是目前社群趨勢!\n",
      "6.喜歡投資理財,具備財經背景尤佳!\n",
      " 其他條件 \n",
      "1.有實務投資經驗、對投資有極大熱忱尤佳\n",
      "2.有金融相關證照可加分\n",
      "3.下標題/寫文章高手,文筆流暢有感染力\n",
      "4.細心、負責任、能獨立作業\n",
      "5.學習力旺盛、追求進步\n",
      " 福利\n",
      "1.滿滿的保健食品,讓你上班健健康康,永保安康\n",
      "2.咖啡機、零食免費提供,一整天都有精神\n",
      "3.公司內所有投資軟體,免費用、用到飽(股票、期權應有盡有)\n",
      "4.公司所有名師開的投資課程,免費上、上到飽(一堂課市值千元)\n",
      "5.参與特殊節慶活動、尾牙,電影包場還可以揪親朋好友\n",
      "6.若表現優異,我們直接提供升遷正職的機會!(讓你畢業即就業)\n",
      " 工作待遇 時薪160元\n",
      "上班地點 新北市板橋區文化路一段268號10樓\n",
      "我們在5/13(四)18:00也有 #線上直播說明會，\n",
      "除了歷屆實習生的分享外，更有Q&A和抽獎活動。\n",
      "幸運兒有機會把我們的純萃系列新品帶回家喔！\n",
      "【實習職缺/ Openings】\n",
      "Marketing * 1\n",
      "Sales – E-Commerce * 1\n",
      "Sales – Hyper & Watsons * 1\n",
      "Supply Chain * 1\n",
      "【報名資格/ Qualifications】\n",
      "大學或研究所在學學生\n",
      "英語熟練並具備基礎MS Office能力\n",
      "具備多功能力/ 積極主動/ 高企圖心/ 善於團隊合作\n",
      "對快消品/ 肌膚保養產業具有強烈興趣\n",
      "【報名方法/ Applications】\n",
      "填寫線上報名表格：https://reurl.cc/zbnEre\n",
      "準備中文、英文履歷 以及自傳（請以PDF格式提供）\n",
      "準備1分鐘影片，\n",
      "將妮維雅2021年純萃系列新品與淨灘結合，進行活動提案 。\n",
      "(中英文不限，影片請上傳至YouTube，並以私人形式提供連結，設為有連結才可觀看）\n",
      "將以上素材寄到下列信箱，標題為「2021 NIVEA Summer Internship_姓名_申請部門」：\n",
      "2f542510.inoffice.onmicrosoft.com@emea.teams.ms\n",
      "【為何選擇妮維雅?/ Why NIVEA?】\n",
      "#發揮影響力：CSR計畫與年度企業策略高度結合，可在短時間內拉高視野。\n",
      "#職涯探索：除了獲得各部門職能之實際經驗，你還會負責規劃、執行並呈現跨部門專案。\n",
      "#高度曝光：從面試開始到實習，再到專案規劃、執行、呈現，皆由高階主管審視並給予回饋。\n",
      "【活動時程/ Timeline】\n",
      "收件時間：4/29 to 5/21\n",
      "線上直播說明會：5/13 18:00\n",
      "通知團體面試時間：End of May\n",
      "團體面試：5/31\n",
      "實習生報到：Mid to End of June\n",
      "實習期間：Until Mid-September\n",
      "5/13(四) 18:00\n",
      "將有 #線上直播說明會，歡迎持續關注粉專！\n",
      "進粉專看更多\n",
      "https://www.facebook.com/niveacareerstaiwan/\n",
      "此實習職缺由妮維雅招募夥伴Adecco協助招募任用\n",
      "【聯絡資訊/Contact Information 】\n",
      "Emma Hsu\n",
      "02-7718-8024\n",
      "adeccotw.campus@adecco.com\n",
      "◆介紹\n",
      "為具有極大潛力的個人提供機會, 加入在美國的中國經營房地產投資公司之一. Chenco集團以其獨特的商業理念贊助了一些最成功的房地產經營公司, 並建立了一個私人股權基金管理平台. 自1991年以來, Chenco一直贊助增值私人股票基金, 總額超過23億美元的資產購置和處置.\n",
      "◆資格\n",
      "Chenco尋求實習生協助其台北團隊進行日常業務的方方面面. 實習生將受到廣泛的房地產私人股權暴露. 申請者必須擁有強大的人際交流能力, 良好的團隊合作精神, 以及英語和普通話的動態口頭和書面交流技能. 不需要先前的房地產經驗, 但非行業申請者應該擁有強大的分析和量化技能.\n",
      "◆任期\n",
      "實習將從2021年5月下旬開始, 持續6個月. (每周至少20小時)\n",
      "◆薪資: NTD 200 /小時\n",
      "◆公司網站: http://www.chenco.com\n",
      "◆如何申請\n",
      "如果您對開場職位感興趣, 請在2021年5月9日下午23:59點之前將英文簡歷和封面信寄給intern@chenco.com (滾動)\n",
      "活動資訊：\n",
      "｜報名時間：110 年 4 月 28 日起至 110 年 5月 14 日（五）。\n",
      "｜工讀期程：110 年 7 月 5 日至 8 月 24 日。\n",
      "｜工讀地點：本府及所屬單位（詳見報名簡章）。\n",
      "｜報名資格：本人設籍本市，需為 29 歲以下青年，暑假前就讀國內各大專院校日間部，且已在學一年以上之大專學生（詳見報名簡章）。\n",
      "報名簡章索取及相關資訊查詢：請至本府勞工處網站（https://dep-labor.hccg.gov.tw/）下載報名簡章，或至本市各區公所社政課索取紙本報名表。\n",
      "【我要報名】：採紙本報名方式\n",
      "請將活動簡章所列各項「報名應檢附資料」之影本，親送或郵寄掛號至：30050 新竹市國華街 69 號 5 樓，新竹市政府勞工處收，信封上請註明「報名新竹市政府 110 年度暑期工讀」。\n"
     ]
    }
   ],
   "source": [
    "crawl()"
   ]
  },
  {
   "cell_type": "code",
   "execution_count": 8,
   "id": "clinical-begin",
   "metadata": {},
   "outputs": [],
   "source": []
  },
  {
   "cell_type": "code",
   "execution_count": null,
   "id": "published-equation",
   "metadata": {},
   "outputs": [],
   "source": []
  },
  {
   "cell_type": "code",
   "execution_count": 6,
   "id": "sapphire-burke",
   "metadata": {},
   "outputs": [],
   "source": [
    "# go to specific page\n",
    "url = 'https://www.facebook.com/groups/808065716041098/?multi_permalinks=1845867072260952%2C1845828008931525%2C1845825975598395%2C1845768885604104%2C1845714092276250&notif_id=1619506442367667&notif_t=group_activity&ref=notif'\n",
    "driver.get(url)\n",
    "\n",
    "#移動到下面\n",
    "\n",
    "\n",
    "def crawl():\n",
    "    driver.execute_script('window.scrollTo(0,document.body.scrollHeight)')\n",
    "    time.sleep(10)\n",
    "    #尋找查看更多按下去\n",
    "    c= driver.find_elements_by_class_name(d('oajrlxb2 g5ia77u1 qu0x051f esr5mh6w e9989ue4 r7d6kgcz rq0escxv nhd2j8a9 nc684nl6 p7hjln8o kvgmc6g5 cxmmr5t8 oygrvhab hcukyx3x jb3vyjys rz4wbd8a qt6c0cv9 a8nywdso i1ao9s8h esuyzwwr f1sip0of lzcic4wl oo9gr5id gpro0wi8 lrazzd5p'))\n",
    "    for i in c:\n",
    "        if i.text =='查看更多':\n",
    "            try :\n",
    "                i.click()\n",
    "            except:\n",
    "                print('')\n",
    "\n",
    "    content= driver.find_elements_by_class_name(d('o9v6fnle cxmmr5t8 oygrvhab hcukyx3x c1et5uql ii04i59q'))\n",
    "    for i in content:\n",
    "        print(i.text)\n",
    "        print()\n",
    "    time.sleep(10)\n",
    "    \n",
    "    "
   ]
  }
 ],
 "metadata": {
  "kernelspec": {
   "display_name": "Python 3",
   "language": "python",
   "name": "python3"
  },
  "language_info": {
   "codemirror_mode": {
    "name": "ipython",
    "version": 3
   },
   "file_extension": ".py",
   "mimetype": "text/x-python",
   "name": "python",
   "nbconvert_exporter": "python",
   "pygments_lexer": "ipython3",
   "version": "3.7.10"
  }
 },
 "nbformat": 4,
 "nbformat_minor": 5
}

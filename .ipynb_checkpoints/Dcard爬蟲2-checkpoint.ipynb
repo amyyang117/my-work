{
 "cells": [
  {
   "cell_type": "code",
   "execution_count": 1,
   "id": "located-encoding",
   "metadata": {},
   "outputs": [],
   "source": [
    "import pandas as pd\n",
    "import requests\n",
    "from bs4 import BeautifulSoup\n",
    "import numpy as npp"
   ]
  },
  {
   "cell_type": "code",
   "execution_count": 2,
   "id": "current-classification",
   "metadata": {},
   "outputs": [],
   "source": [
    "# 需要有文章號碼\n",
    "cip='235807969'#國泰\n",
    "kg=\"235697367\" #凱基"
   ]
  },
  {
   "cell_type": "markdown",
   "id": "thirty-christmas",
   "metadata": {},
   "source": [
    "# 主程式"
   ]
  },
  {
   "cell_type": "code",
   "execution_count": 3,
   "id": "applied-netscape",
   "metadata": {},
   "outputs": [],
   "source": [
    "def crawl(postnum):\n",
    "    dic={}\n",
    "    count=0\n",
    "\n",
    "    url2 = f\"https://www.dcard.tw/service/api/v2/posts/{postnum}\"\n",
    "    ww = requests.get(url2)\n",
    "    ww = ww.json()\n",
    "    total_num = ww['commentCount']\n",
    "    \n",
    "    t = total_num//100\n",
    "    for j in range(0,t+1): \n",
    "        url=(f\"https://www.dcard.tw/service/api/v2/posts/{postnum}/comments?after={(j*100)}&limit=100\" )#limit100最多取100則回應\n",
    "        web = requests.get(url)\n",
    "        w = web.json()\n",
    "\n",
    "        for i in range(0,len(w)):\n",
    "            if 'content' in w[i]:\n",
    "                content = (w[i]['content'])\n",
    "                floor = w[i]['floor']\n",
    "                if 'school' in w[i]:\n",
    "                    school = w[i]['school']\n",
    "                else:\n",
    "                    school = '匿名'\n",
    "                dic[floor] = [content,school]\n",
    "            \n",
    "            else:\n",
    "                count+=1\n",
    "            \n",
    "    df = pd.DataFrame.from_dict(dic,orient='index',columns=['內容','學校'])\n",
    "    print(f'總共有{len(df.index)}則回應,{count}則被刪掉的回應')\n",
    "    return df"
   ]
  },
  {
   "cell_type": "code",
   "execution_count": 5,
   "id": "marine-radio",
   "metadata": {},
   "outputs": [
    {
     "name": "stdout",
     "output_type": "stream",
     "text": [
      "總共有574則回應,21則被刪掉的回應\n"
     ]
    },
    {
     "data": {
      "text/html": [
       "<div>\n",
       "<style scoped>\n",
       "    .dataframe tbody tr th:only-of-type {\n",
       "        vertical-align: middle;\n",
       "    }\n",
       "\n",
       "    .dataframe tbody tr th {\n",
       "        vertical-align: top;\n",
       "    }\n",
       "\n",
       "    .dataframe thead th {\n",
       "        text-align: right;\n",
       "    }\n",
       "</style>\n",
       "<table border=\"1\" class=\"dataframe\">\n",
       "  <thead>\n",
       "    <tr style=\"text-align: right;\">\n",
       "      <th></th>\n",
       "      <th>內容</th>\n",
       "      <th>學校</th>\n",
       "    </tr>\n",
       "  </thead>\n",
       "  <tbody>\n",
       "    <tr>\n",
       "      <th>500</th>\n",
       "      <td>B498 我！</td>\n",
       "      <td>國立成功大學</td>\n",
       "    </tr>\n",
       "    <tr>\n",
       "      <th>501</th>\n",
       "      <td>B499 所以那些說有收到面試通知的是在.....？</td>\n",
       "      <td>國立臺灣大學</td>\n",
       "    </tr>\n",
       "    <tr>\n",
       "      <th>502</th>\n",
       "      <td>B501 這我就不知道了：）</td>\n",
       "      <td>國立成功大學</td>\n",
       "    </tr>\n",
       "    <tr>\n",
       "      <th>503</th>\n",
       "      <td>B501 在哈囉吧......</td>\n",
       "      <td>國立清華大學</td>\n",
       "    </tr>\n",
       "    <tr>\n",
       "      <th>504</th>\n",
       "      <td>期貨是不是都沒有人收到啊</td>\n",
       "      <td>國立政治大學</td>\n",
       "    </tr>\n",
       "    <tr>\n",
       "      <th>...</th>\n",
       "      <td>...</td>\n",
       "      <td>...</td>\n",
       "    </tr>\n",
       "    <tr>\n",
       "      <th>591</th>\n",
       "      <td>B578 \\n營運企劃～</td>\n",
       "      <td>國立中央大學</td>\n",
       "    </tr>\n",
       "    <tr>\n",
       "      <th>592</th>\n",
       "      <td>金控數金收到改線上的通知</td>\n",
       "      <td>☺️</td>\n",
       "    </tr>\n",
       "    <tr>\n",
       "      <th>593</th>\n",
       "      <td>真好 改線上就不用通勤惹</td>\n",
       "      <td>國立中央大學</td>\n",
       "    </tr>\n",
       "    <tr>\n",
       "      <th>594</th>\n",
       "      <td>金控數位都收到了嗎？</td>\n",
       "      <td>輔仁大學</td>\n",
       "    </tr>\n",
       "    <tr>\n",
       "      <th>595</th>\n",
       "      <td>B594 沒收到 哭哭</td>\n",
       "      <td>國立臺北大學</td>\n",
       "    </tr>\n",
       "  </tbody>\n",
       "</table>\n",
       "<p>94 rows × 2 columns</p>\n",
       "</div>"
      ],
      "text/plain": [
       "                             內容      學校\n",
       "500                     B498 我！  國立成功大學\n",
       "501  B499 所以那些說有收到面試通知的是在.....？  國立臺灣大學\n",
       "502              B501 這我就不知道了：）  國立成功大學\n",
       "503             B501 在哈囉吧......  國立清華大學\n",
       "504                期貨是不是都沒有人收到啊  國立政治大學\n",
       "..                          ...     ...\n",
       "591                B578 \\n營運企劃～  國立中央大學\n",
       "592                金控數金收到改線上的通知      ☺️\n",
       "593                真好 改線上就不用通勤惹  國立中央大學\n",
       "594                  金控數位都收到了嗎？    輔仁大學\n",
       "595                 B594 沒收到 哭哭  國立臺北大學\n",
       "\n",
       "[94 rows x 2 columns]"
      ]
     },
     "execution_count": 5,
     "metadata": {},
     "output_type": "execute_result"
    }
   ],
   "source": [
    "crawl(cip)[480:]"
   ]
  },
  {
   "cell_type": "code",
   "execution_count": 6,
   "id": "controlling-deposit",
   "metadata": {},
   "outputs": [],
   "source": [
    "def search(post,keyword):\n",
    "    post = crawl(post)\n",
    "    \n",
    "    return post[keyword in post['內容']]\n"
   ]
  },
  {
   "cell_type": "code",
   "execution_count": null,
   "id": "swedish-diploma",
   "metadata": {},
   "outputs": [],
   "source": []
  },
  {
   "cell_type": "code",
   "execution_count": 107,
   "id": "hourly-admission",
   "metadata": {},
   "outputs": [
    {
     "name": "stdout",
     "output_type": "stream",
     "text": [
      "要找什麼關鍵字？投顧\n",
      "總共有458則回應,15則被刪掉的回覆\n"
     ]
    },
    {
     "data": {
      "text/html": [
       "<div>\n",
       "<style scoped>\n",
       "    .dataframe tbody tr th:only-of-type {\n",
       "        vertical-align: middle;\n",
       "    }\n",
       "\n",
       "    .dataframe tbody tr th {\n",
       "        vertical-align: top;\n",
       "    }\n",
       "\n",
       "    .dataframe thead th {\n",
       "        text-align: right;\n",
       "    }\n",
       "</style>\n",
       "<table border=\"1\" class=\"dataframe\">\n",
       "  <thead>\n",
       "    <tr style=\"text-align: right;\">\n",
       "      <th></th>\n",
       "      <th>內容</th>\n",
       "      <th>學校</th>\n",
       "    </tr>\n",
       "  </thead>\n",
       "  <tbody>\n",
       "    <tr>\n",
       "      <th>207</th>\n",
       "      <td>Cccccc有人投顧收到嗎😭</td>\n",
       "      <td>國立政治大學</td>\n",
       "    </tr>\n",
       "    <tr>\n",
       "      <th>259</th>\n",
       "      <td>投顧有人收到了嗎</td>\n",
       "      <td>國立中山大學</td>\n",
       "    </tr>\n",
       "    <tr>\n",
       "      <th>282</th>\n",
       "      <td>有人收到投顧的嗎</td>\n",
       "      <td>國立中央大學</td>\n",
       "    </tr>\n",
       "    <tr>\n",
       "      <th>346</th>\n",
       "      <td>卡投顧🥺</td>\n",
       "      <td>國立政治大學</td>\n",
       "    </tr>\n",
       "    <tr>\n",
       "      <th>352</th>\n",
       "      <td>B350 看留言目前投顧沒有人收到耶</td>\n",
       "      <td>東吳大學</td>\n",
       "    </tr>\n",
       "    <tr>\n",
       "      <th>368</th>\n",
       "      <td>B367 期貨 投顧 產險 ^ ^</td>\n",
       "      <td>國立中央大學</td>\n",
       "    </tr>\n",
       "  </tbody>\n",
       "</table>\n",
       "</div>"
      ],
      "text/plain": [
       "                     內容      學校\n",
       "207      Cccccc有人投顧收到嗎😭  國立政治大學\n",
       "259            投顧有人收到了嗎  國立中山大學\n",
       "282            有人收到投顧的嗎  國立中央大學\n",
       "346                卡投顧🥺  國立政治大學\n",
       "352  B350 看留言目前投顧沒有人收到耶    東吳大學\n",
       "368   B367 期貨 投顧 產險 ^ ^  國立中央大學"
      ]
     },
     "execution_count": 107,
     "metadata": {},
     "output_type": "execute_result"
    }
   ],
   "source": [
    "keyword = input('要找什麼關鍵字？')\n",
    "post = crawl(cip)\n",
    "post[post['內容'].str.contains(keyword)]"
   ]
  },
  {
   "cell_type": "code",
   "execution_count": 13,
   "id": "stunning-technical",
   "metadata": {},
   "outputs": [
    {
     "name": "stdout",
     "output_type": "stream",
     "text": [
      "總共有181則回應,4則被刪掉的回應\n"
     ]
    }
   ],
   "source": [
    "crawl(kg)['內容'][183]"
   ]
  },
  {
   "cell_type": "code",
   "execution_count": null,
   "id": "mounted-venice",
   "metadata": {},
   "outputs": [],
   "source": []
  }
 ],
 "metadata": {
  "kernelspec": {
   "display_name": "Python 3",
   "language": "python",
   "name": "python3"
  },
  "language_info": {
   "codemirror_mode": {
    "name": "ipython",
    "version": 3
   },
   "file_extension": ".py",
   "mimetype": "text/x-python",
   "name": "python",
   "nbconvert_exporter": "python",
   "pygments_lexer": "ipython3",
   "version": "3.7.10"
  }
 },
 "nbformat": 4,
 "nbformat_minor": 5
}

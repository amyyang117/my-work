{
 "cells": [
  {
   "cell_type": "code",
   "execution_count": 1,
   "metadata": {},
   "outputs": [],
   "source": [
    "import numpy as np\n",
    "import pandas as pd \n",
    "import requests as re\n",
    "import time "
   ]
  },
  {
   "cell_type": "code",
   "execution_count": 2,
   "metadata": {},
   "outputs": [],
   "source": [
    "import datetime\n",
    "today = datetime.date.today()"
   ]
  },
  {
   "cell_type": "code",
   "execution_count": 3,
   "metadata": {},
   "outputs": [
    {
     "name": "stdout",
     "output_type": "stream",
     "text": [
      "110/03/20\n"
     ]
    }
   ],
   "source": [
    "# 整理今日日期\n",
    "year = str(int(str(today)[0:4])-1911)\n",
    "month = str(today)[5:7]\n",
    "day = str(today)[8:10]\n",
    "todate = year + '/' + month +'/' + day\n",
    "print(todate)"
   ]
  },
  {
   "cell_type": "markdown",
   "metadata": {},
   "source": [
    "# 取得資料\n",
    "\n",
    "## 取得上櫃外資淨買超並做整理"
   ]
  },
  {
   "cell_type": "code",
   "execution_count": 4,
   "metadata": {},
   "outputs": [],
   "source": [
    "# get data 上櫃外資買超\n",
    "gbdata = pd.read_html(\"https://www.tpex.org.tw/web/stock/3insti/qfii_trading/forgtr_result.php?l=zh-tw&t=D&type=buy&d=%s&s=0,asc&o=htm\"%todate)\n",
    "df = gbdata[0]\n",
    "need = [df.columns[1], df.columns[2], df.columns[11]] #取出我要的東西"
   ]
  },
  {
   "cell_type": "code",
   "execution_count": 5,
   "metadata": {},
   "outputs": [
    {
     "data": {
      "text/plain": [
       "'代號'"
      ]
     },
     "execution_count": 5,
     "metadata": {},
     "output_type": "execute_result"
    }
   ],
   "source": [
    "gbuydata = df[need] #把資料換成dataframe\n",
    "gbuydata.columns[0][0]"
   ]
  },
  {
   "cell_type": "code",
   "execution_count": 6,
   "metadata": {},
   "outputs": [
    {
     "data": {
      "text/html": [
       "<div>\n",
       "<style scoped>\n",
       "    .dataframe tbody tr th:only-of-type {\n",
       "        vertical-align: middle;\n",
       "    }\n",
       "\n",
       "    .dataframe tbody tr th {\n",
       "        vertical-align: top;\n",
       "    }\n",
       "\n",
       "    .dataframe thead th {\n",
       "        text-align: right;\n",
       "    }\n",
       "</style>\n",
       "<table border=\"1\" class=\"dataframe\">\n",
       "  <thead>\n",
       "    <tr style=\"text-align: right;\">\n",
       "      <th></th>\n",
       "      <th>代號</th>\n",
       "      <th>名稱</th>\n",
       "      <th>買超</th>\n",
       "    </tr>\n",
       "  </thead>\n",
       "  <tbody>\n",
       "    <tr>\n",
       "      <th>0</th>\n",
       "      <td>共0筆</td>\n",
       "      <td>共0筆</td>\n",
       "      <td>共0筆</td>\n",
       "    </tr>\n",
       "  </tbody>\n",
       "</table>\n",
       "</div>"
      ],
      "text/plain": [
       "    代號   名稱   買超\n",
       "0  共0筆  共0筆  共0筆"
      ]
     },
     "execution_count": 6,
     "metadata": {},
     "output_type": "execute_result"
    }
   ],
   "source": [
    "gbuydata.columns = ['代號','名稱','買超']\n",
    "for i in range(len(gbuydata.index)):\n",
    "    if len(gbuydata[\"代號\"][i])>4:\n",
    "        gbuydata=gbuydata.drop(index=i)\n",
    "\n",
    "gbuydata.reset_index(drop=True)"
   ]
  },
  {
   "cell_type": "markdown",
   "metadata": {},
   "source": [
    "## 取得上櫃外資賣超"
   ]
  },
  {
   "cell_type": "code",
   "execution_count": 207,
   "metadata": {},
   "outputs": [],
   "source": [
    "gsdata = pd.read_html(\"https://www.tpex.org.tw/web/stock/3insti/qfii_trading/forgtr_result.php?l=zh-tw&t=D&type=sell&d=%s&s=0,asc&o=htm\"%(todate))\n",
    "df1 = gsdata[0]\n",
    "need1 = [df1.columns[1], df1.columns[2], df1.columns[11]] #取出我要的東西"
   ]
  },
  {
   "cell_type": "code",
   "execution_count": 208,
   "metadata": {},
   "outputs": [
    {
     "data": {
      "text/plain": [
       "'03月18日 外資及陸資賣超'"
      ]
     },
     "execution_count": 208,
     "metadata": {},
     "output_type": "execute_result"
    }
   ],
   "source": [
    "gselldata = df1[need1] #把資料換成dataframe\n",
    "gselldata.columns[0][0]"
   ]
  },
  {
   "cell_type": "code",
   "execution_count": 209,
   "metadata": {},
   "outputs": [
    {
     "data": {
      "text/html": [
       "<div>\n",
       "<style scoped>\n",
       "    .dataframe tbody tr th:only-of-type {\n",
       "        vertical-align: middle;\n",
       "    }\n",
       "\n",
       "    .dataframe tbody tr th {\n",
       "        vertical-align: top;\n",
       "    }\n",
       "\n",
       "    .dataframe thead th {\n",
       "        text-align: right;\n",
       "    }\n",
       "</style>\n",
       "<table border=\"1\" class=\"dataframe\">\n",
       "  <thead>\n",
       "    <tr style=\"text-align: right;\">\n",
       "      <th></th>\n",
       "      <th>代號</th>\n",
       "      <th>名稱</th>\n",
       "      <th>賣超</th>\n",
       "    </tr>\n",
       "  </thead>\n",
       "  <tbody>\n",
       "    <tr>\n",
       "      <th>0</th>\n",
       "      <td>6219</td>\n",
       "      <td>富旺</td>\n",
       "      <td>-3652</td>\n",
       "    </tr>\n",
       "    <tr>\n",
       "      <th>1</th>\n",
       "      <td>5820</td>\n",
       "      <td>日盛金</td>\n",
       "      <td>-3554</td>\n",
       "    </tr>\n",
       "    <tr>\n",
       "      <th>2</th>\n",
       "      <td>8358</td>\n",
       "      <td>金居</td>\n",
       "      <td>-2186</td>\n",
       "    </tr>\n",
       "    <tr>\n",
       "      <th>3</th>\n",
       "      <td>6244</td>\n",
       "      <td>茂迪</td>\n",
       "      <td>-1035</td>\n",
       "    </tr>\n",
       "    <tr>\n",
       "      <th>4</th>\n",
       "      <td>6182</td>\n",
       "      <td>合晶</td>\n",
       "      <td>-1020</td>\n",
       "    </tr>\n",
       "    <tr>\n",
       "      <th>...</th>\n",
       "      <td>...</td>\n",
       "      <td>...</td>\n",
       "      <td>...</td>\n",
       "    </tr>\n",
       "    <tr>\n",
       "      <th>268</th>\n",
       "      <td>6629</td>\n",
       "      <td>泰金-KY</td>\n",
       "      <td>-1</td>\n",
       "    </tr>\n",
       "    <tr>\n",
       "      <th>269</th>\n",
       "      <td>8047</td>\n",
       "      <td>星雲</td>\n",
       "      <td>-1</td>\n",
       "    </tr>\n",
       "    <tr>\n",
       "      <th>270</th>\n",
       "      <td>8071</td>\n",
       "      <td>能率網通</td>\n",
       "      <td>-1</td>\n",
       "    </tr>\n",
       "    <tr>\n",
       "      <th>271</th>\n",
       "      <td>8431</td>\n",
       "      <td>匯鑽科</td>\n",
       "      <td>-1</td>\n",
       "    </tr>\n",
       "    <tr>\n",
       "      <th>272</th>\n",
       "      <td>6643</td>\n",
       "      <td>M31</td>\n",
       "      <td>-1</td>\n",
       "    </tr>\n",
       "  </tbody>\n",
       "</table>\n",
       "<p>273 rows × 3 columns</p>\n",
       "</div>"
      ],
      "text/plain": [
       "       代號     名稱     賣超\n",
       "0    6219     富旺  -3652\n",
       "1    5820    日盛金  -3554\n",
       "2    8358     金居  -2186\n",
       "3    6244     茂迪  -1035\n",
       "4    6182     合晶  -1020\n",
       "..    ...    ...    ...\n",
       "268  6629  泰金-KY     -1\n",
       "269  8047     星雲     -1\n",
       "270  8071   能率網通     -1\n",
       "271  8431    匯鑽科     -1\n",
       "272  6643    M31     -1\n",
       "\n",
       "[273 rows x 3 columns]"
      ]
     },
     "execution_count": 209,
     "metadata": {},
     "output_type": "execute_result"
    }
   ],
   "source": [
    "gselldata.columns = ['代號','名稱','賣超']\n",
    "for i in range(len(gselldata.index)):\n",
    "    if len(gselldata[\"代號\"][i])>4:\n",
    "        gselldata=gselldata.drop(index=i)\n",
    "\n",
    "gselldata.reset_index(drop=True)"
   ]
  },
  {
   "cell_type": "markdown",
   "metadata": {},
   "source": [
    "## 取得上市外資買賣超"
   ]
  },
  {
   "cell_type": "code",
   "execution_count": 7,
   "metadata": {},
   "outputs": [],
   "source": [
    "#上市外資買賣\n",
    "#cdate = str(today)[0:4]+str(today)[5:7]+str(today)[8:10]\n",
    "cdate = \"20210319\"\n",
    "data2  = pd.read_html(\"https://www.twse.com.tw/fund/TWT38U?response=html&date=%s\"%cdate)"
   ]
  },
  {
   "cell_type": "code",
   "execution_count": 8,
   "metadata": {},
   "outputs": [
    {
     "data": {
      "text/plain": [
       "'110年03月19日 外資及陸資買賣超彙總表'"
      ]
     },
     "execution_count": 8,
     "metadata": {},
     "output_type": "execute_result"
    }
   ],
   "source": [
    "df2 = data2[0]\n",
    "need2 = [df2.columns[1], df2.columns[2], df2.columns[11]] #取出我要的東西\n",
    "\n",
    "alldata = df2[need2] #把資料換成dataframe\n",
    "alldata.columns[0][0]"
   ]
  },
  {
   "cell_type": "code",
   "execution_count": 9,
   "metadata": {},
   "outputs": [],
   "source": [
    "#分買超跟賣超\n",
    "alldata.columns = ['代號','名稱','買賣超']\n",
    "for i in range(len(alldata.index)):\n",
    "    if len(alldata[\"代號\"][i])>4:\n",
    "        alldata=alldata.drop(index=i)\n",
    "\n",
    "alldata = alldata.reset_index(drop=True)"
   ]
  },
  {
   "cell_type": "code",
   "execution_count": 10,
   "metadata": {},
   "outputs": [
    {
     "data": {
      "text/html": [
       "<div>\n",
       "<style scoped>\n",
       "    .dataframe tbody tr th:only-of-type {\n",
       "        vertical-align: middle;\n",
       "    }\n",
       "\n",
       "    .dataframe tbody tr th {\n",
       "        vertical-align: top;\n",
       "    }\n",
       "\n",
       "    .dataframe thead th {\n",
       "        text-align: right;\n",
       "    }\n",
       "</style>\n",
       "<table border=\"1\" class=\"dataframe\">\n",
       "  <thead>\n",
       "    <tr style=\"text-align: right;\">\n",
       "      <th></th>\n",
       "      <th>代號</th>\n",
       "      <th>名稱</th>\n",
       "      <th>買賣超</th>\n",
       "    </tr>\n",
       "  </thead>\n",
       "  <tbody>\n",
       "    <tr>\n",
       "      <th>0</th>\n",
       "      <td>2353</td>\n",
       "      <td>宏碁</td>\n",
       "      <td>73388327</td>\n",
       "    </tr>\n",
       "    <tr>\n",
       "      <th>1</th>\n",
       "      <td>2883</td>\n",
       "      <td>開發金</td>\n",
       "      <td>58906038</td>\n",
       "    </tr>\n",
       "    <tr>\n",
       "      <th>2</th>\n",
       "      <td>2610</td>\n",
       "      <td>華航</td>\n",
       "      <td>32759506</td>\n",
       "    </tr>\n",
       "    <tr>\n",
       "      <th>3</th>\n",
       "      <td>2890</td>\n",
       "      <td>永豐金</td>\n",
       "      <td>32527364</td>\n",
       "    </tr>\n",
       "    <tr>\n",
       "      <th>4</th>\n",
       "      <td>2618</td>\n",
       "      <td>長榮航</td>\n",
       "      <td>18205175</td>\n",
       "    </tr>\n",
       "    <tr>\n",
       "      <th>...</th>\n",
       "      <td>...</td>\n",
       "      <td>...</td>\n",
       "      <td>...</td>\n",
       "    </tr>\n",
       "    <tr>\n",
       "      <th>255</th>\n",
       "      <td>3563</td>\n",
       "      <td>牧德</td>\n",
       "      <td>2000</td>\n",
       "    </tr>\n",
       "    <tr>\n",
       "      <th>256</th>\n",
       "      <td>2429</td>\n",
       "      <td>銘旺科</td>\n",
       "      <td>1000</td>\n",
       "    </tr>\n",
       "    <tr>\n",
       "      <th>257</th>\n",
       "      <td>8443</td>\n",
       "      <td>阿瘦</td>\n",
       "      <td>1000</td>\n",
       "    </tr>\n",
       "    <tr>\n",
       "      <th>258</th>\n",
       "      <td>8499</td>\n",
       "      <td>鼎炫-KY</td>\n",
       "      <td>1000</td>\n",
       "    </tr>\n",
       "    <tr>\n",
       "      <th>259</th>\n",
       "      <td>0052</td>\n",
       "      <td>富邦科技</td>\n",
       "      <td>133</td>\n",
       "    </tr>\n",
       "  </tbody>\n",
       "</table>\n",
       "<p>260 rows × 3 columns</p>\n",
       "</div>"
      ],
      "text/plain": [
       "       代號     名稱       買賣超\n",
       "0    2353     宏碁  73388327\n",
       "1    2883    開發金  58906038\n",
       "2    2610     華航  32759506\n",
       "3    2890    永豐金  32527364\n",
       "4    2618    長榮航  18205175\n",
       "..    ...    ...       ...\n",
       "255  3563     牧德      2000\n",
       "256  2429    銘旺科      1000\n",
       "257  8443     阿瘦      1000\n",
       "258  8499  鼎炫-KY      1000\n",
       "259  0052   富邦科技       133\n",
       "\n",
       "[260 rows x 3 columns]"
      ]
     },
     "execution_count": 10,
     "metadata": {},
     "output_type": "execute_result"
    }
   ],
   "source": [
    "indb = alldata.loc[alldata.iloc[:,2]>0].index #取得index的數字再放到loc裡\n",
    "inds = alldata.loc[alldata.iloc[:,2]<0].index\n",
    "\n",
    "buydata = alldata.iloc[indb,:].reset_index(drop = True) #外資淨買超\n",
    "selldata = alldata.iloc[inds,:].reset_index(drop =True) #外資淨賣超\n",
    "buydata"
   ]
  },
  {
   "cell_type": "markdown",
   "metadata": {},
   "source": [
    "# 取得上市投信買超"
   ]
  },
  {
   "cell_type": "code",
   "execution_count": 12,
   "metadata": {},
   "outputs": [],
   "source": [
    "def buy(x):\n",
    "    #上市外資買賣\n",
    "    data2  = pd.read_html(x)\n",
    "    df2 = data2[0]\n",
    "    need2 = [df2.columns[1], df2.columns[2], df2.columns[5]] #取出我要的東西\n",
    "    alldata = df2[need2] #把資料換成dataframe\n",
    "    alldata.columns = ['代號','名稱','買賣超']\n",
    "    for i in range(len(alldata.index)):\n",
    "        if len(alldata[\"代號\"][i])>4:\n",
    "            alldata=alldata.drop(index=i)\n",
    "\n",
    "    alldata = alldata.reset_index(drop=True)\n",
    "    indb = alldata.loc[alldata.iloc[:,2]>0].index #取得index的數字再放到loc裡\n",
    "    inds = alldata.loc[alldata.iloc[:,2]<0].index\n",
    "\n",
    "    buydata = alldata.iloc[indb,:].reset_index(drop = True) #外資淨買超\n",
    "    selldata = alldata.iloc[inds,:].reset_index(drop =True) #外資淨賣超\n",
    "    \n",
    "    return buydata \n",
    "\n",
    "def sell(x):\n",
    "    #上市外資買賣\n",
    "    data2  = pd.read_html(x)\n",
    "    df2 = data2[0]\n",
    "    need2 = [df2.columns[1], df2.columns[2], df2.columns[5]] #取出我要的東西\n",
    "    alldata = df2[need2] #把資料換成dataframe\n",
    "    alldata.columns = ['代號','名稱','買賣超']\n",
    "    for i in range(len(alldata.index)):\n",
    "        if len(alldata[\"代號\"][i])>4:\n",
    "            alldata=alldata.drop(index=i)\n",
    "\n",
    "    alldata = alldata.reset_index(drop=True)\n",
    "    inds = alldata.loc[alldata.iloc[:,2]<0].index    \n",
    "    selldata = alldata.iloc[inds,:].reset_index(drop =True) #外資淨賣超\n",
    "    \n",
    "    return selldata"
   ]
  },
  {
   "cell_type": "code",
   "execution_count": 14,
   "metadata": {},
   "outputs": [
    {
     "ename": "TypeError",
     "evalue": "object of type 'numpy.int64' has no len()",
     "output_type": "error",
     "traceback": [
      "\u001b[0;31m---------------------------------------------------------------------------\u001b[0m",
      "\u001b[0;31mTypeError\u001b[0m                                 Traceback (most recent call last)",
      "\u001b[0;32m<ipython-input-14-8543590786dd>\u001b[0m in \u001b[0;36m<module>\u001b[0;34m\u001b[0m\n\u001b[1;32m      3\u001b[0m \u001b[0mtoxing\u001b[0m\u001b[0;34m=\u001b[0m\u001b[0;34m\"https://www.twse.com.tw/fund/TWT44U?response=html&date=%s\"\u001b[0m\u001b[0;34m%\u001b[0m\u001b[0mcdate\u001b[0m\u001b[0;34m\u001b[0m\u001b[0;34m\u001b[0m\u001b[0m\n\u001b[1;32m      4\u001b[0m \u001b[0mforeign\u001b[0m\u001b[0;34m=\u001b[0m\u001b[0;34m\"https://www.twse.com.tw/fund/TWT38U?response=html&date=%s\"\u001b[0m\u001b[0;34m%\u001b[0m\u001b[0mcdate\u001b[0m\u001b[0;34m\u001b[0m\u001b[0;34m\u001b[0m\u001b[0m\n\u001b[0;32m----> 5\u001b[0;31m \u001b[0msell\u001b[0m\u001b[0;34m(\u001b[0m\u001b[0mtoxing\u001b[0m\u001b[0;34m)\u001b[0m\u001b[0;34m\u001b[0m\u001b[0;34m\u001b[0m\u001b[0m\n\u001b[0m",
      "\u001b[0;32m<ipython-input-12-2e5d16f99f1e>\u001b[0m in \u001b[0;36msell\u001b[0;34m(x)\u001b[0m\n\u001b[1;32m     27\u001b[0m     \u001b[0malldata\u001b[0m\u001b[0;34m.\u001b[0m\u001b[0mcolumns\u001b[0m \u001b[0;34m=\u001b[0m \u001b[0;34m[\u001b[0m\u001b[0;34m'代號'\u001b[0m\u001b[0;34m,\u001b[0m\u001b[0;34m'名稱'\u001b[0m\u001b[0;34m,\u001b[0m\u001b[0;34m'買賣超'\u001b[0m\u001b[0;34m]\u001b[0m\u001b[0;34m\u001b[0m\u001b[0;34m\u001b[0m\u001b[0m\n\u001b[1;32m     28\u001b[0m     \u001b[0;32mfor\u001b[0m \u001b[0mi\u001b[0m \u001b[0;32min\u001b[0m \u001b[0mrange\u001b[0m\u001b[0;34m(\u001b[0m\u001b[0mlen\u001b[0m\u001b[0;34m(\u001b[0m\u001b[0malldata\u001b[0m\u001b[0;34m.\u001b[0m\u001b[0mindex\u001b[0m\u001b[0;34m)\u001b[0m\u001b[0;34m)\u001b[0m\u001b[0;34m:\u001b[0m\u001b[0;34m\u001b[0m\u001b[0;34m\u001b[0m\u001b[0m\n\u001b[0;32m---> 29\u001b[0;31m         \u001b[0;32mif\u001b[0m \u001b[0mlen\u001b[0m\u001b[0;34m(\u001b[0m\u001b[0malldata\u001b[0m\u001b[0;34m[\u001b[0m\u001b[0;34m\"代號\"\u001b[0m\u001b[0;34m]\u001b[0m\u001b[0;34m[\u001b[0m\u001b[0mi\u001b[0m\u001b[0;34m]\u001b[0m\u001b[0;34m)\u001b[0m\u001b[0;34m>\u001b[0m\u001b[0;36m4\u001b[0m\u001b[0;34m:\u001b[0m\u001b[0;34m\u001b[0m\u001b[0;34m\u001b[0m\u001b[0m\n\u001b[0m\u001b[1;32m     30\u001b[0m             \u001b[0malldata\u001b[0m\u001b[0;34m=\u001b[0m\u001b[0malldata\u001b[0m\u001b[0;34m.\u001b[0m\u001b[0mdrop\u001b[0m\u001b[0;34m(\u001b[0m\u001b[0mindex\u001b[0m\u001b[0;34m=\u001b[0m\u001b[0mi\u001b[0m\u001b[0;34m)\u001b[0m\u001b[0;34m\u001b[0m\u001b[0;34m\u001b[0m\u001b[0m\n\u001b[1;32m     31\u001b[0m \u001b[0;34m\u001b[0m\u001b[0m\n",
      "\u001b[0;31mTypeError\u001b[0m: object of type 'numpy.int64' has no len()"
     ]
    }
   ],
   "source": [
    "#cdate = str(today)[0:4]+str(today)[5:7]+str(today)[8:10]\n",
    "cdate = \"20210319\"\n",
    "toxing=\"https://www.twse.com.tw/fund/TWT44U?response=html&date=%s\"%cdate\n",
    "foreign=\"https://www.twse.com.tw/fund/TWT38U?response=html&date=%s\"%cdate\n",
    "sell(toxing)"
   ]
  },
  {
   "cell_type": "markdown",
   "metadata": {},
   "source": [
    "# 寫成函數並依照投信外資分類 之後好合併"
   ]
  },
  {
   "cell_type": "code",
   "execution_count": 15,
   "metadata": {},
   "outputs": [],
   "source": [
    "# cdate = str(today)[0:4]+str(today)[5:7]+str(today)[8:10] #當天日期直接讀取\n",
    "cdate = \"20210318\"\n",
    "\n",
    "toxing=\"https://www.twse.com.tw/fund/TWT44U?response=html&date=%s\"%cdate\n",
    "foreign=\"https://www.twse.com.tw/fund/TWT38U?response=html&date=%s\"%cdate\n",
    "\n",
    "def buy(x):\n",
    "    #上市外資買賣\n",
    "    data2  = pd.read_html(x)\n",
    "    df2 = data2[0]\n",
    "    need2 = [df2.columns[1], df2.columns[2], df2.columns[5]] #取出我要的東西\n",
    "    alldata = df2[need2] #把資料換成dataframe\n",
    "    if \"44\" in x:\n",
    "        alldata.columns = ['代號','名稱','投信買超']\n",
    "    else:\n",
    "        alldata.columns = ['代號','名稱','外資買超']\n",
    "    for i in range(len(alldata.index)):\n",
    "        if len(alldata[\"代號\"][i])>4:\n",
    "            alldata=alldata.drop(index=i)\n",
    "\n",
    "    alldata = alldata.reset_index(drop=True)\n",
    "    indb = alldata.loc[alldata.iloc[:,2]>0].index #取得index的數字再放到loc裡\n",
    "\n",
    "    buydata = alldata.iloc[indb,:].reset_index(drop = True) #外資淨買超\n",
    "\n",
    "    return buydata \n",
    "\n",
    "def sell(x):\n",
    "    #上市外資買賣\n",
    "    data2  = pd.read_html(x)\n",
    "    df2 = data2[0]\n",
    "    need2 = [df2.columns[1], df2.columns[2], df2.columns[5]] #取出我要的東西\n",
    "    alldata = df2[need2] #把資料換成dataframe\n",
    "    if \"44\" in x:\n",
    "        alldata.columns = ['代號','名稱','投信賣超']\n",
    "    else:\n",
    "        alldata.columns = ['代號','名稱','外資賣超']\n",
    "    \n",
    "    for i in range(len(alldata.index)):\n",
    "        if len(alldata[\"代號\"][i])>4:\n",
    "            alldata=alldata.drop(index=i)\n",
    "\n",
    "    alldata = alldata.reset_index(drop=True)\n",
    "    inds = alldata.loc[alldata.iloc[:,2]<0].index    \n",
    "    selldata = alldata.iloc[inds,:].reset_index(drop =True) #外資淨賣超\n",
    "    \n",
    "    return selldata"
   ]
  },
  {
   "cell_type": "code",
   "execution_count": 16,
   "metadata": {},
   "outputs": [
    {
     "data": {
      "text/html": [
       "<div>\n",
       "<style scoped>\n",
       "    .dataframe tbody tr th:only-of-type {\n",
       "        vertical-align: middle;\n",
       "    }\n",
       "\n",
       "    .dataframe tbody tr th {\n",
       "        vertical-align: top;\n",
       "    }\n",
       "\n",
       "    .dataframe thead th {\n",
       "        text-align: right;\n",
       "    }\n",
       "</style>\n",
       "<table border=\"1\" class=\"dataframe\">\n",
       "  <thead>\n",
       "    <tr style=\"text-align: right;\">\n",
       "      <th></th>\n",
       "      <th>代號</th>\n",
       "      <th>名稱</th>\n",
       "      <th>投信買超</th>\n",
       "      <th>外資買超</th>\n",
       "      <th>合計</th>\n",
       "    </tr>\n",
       "  </thead>\n",
       "  <tbody>\n",
       "    <tr>\n",
       "      <th>0</th>\n",
       "      <td>2603</td>\n",
       "      <td>長榮</td>\n",
       "      <td>1306000</td>\n",
       "      <td>39507940</td>\n",
       "      <td>40813940</td>\n",
       "    </tr>\n",
       "    <tr>\n",
       "      <th>1</th>\n",
       "      <td>2317</td>\n",
       "      <td>鴻海</td>\n",
       "      <td>1595000</td>\n",
       "      <td>31769111</td>\n",
       "      <td>33364111</td>\n",
       "    </tr>\n",
       "    <tr>\n",
       "      <th>2</th>\n",
       "      <td>2409</td>\n",
       "      <td>友達</td>\n",
       "      <td>934000</td>\n",
       "      <td>20971906</td>\n",
       "      <td>21905906</td>\n",
       "    </tr>\n",
       "    <tr>\n",
       "      <th>3</th>\n",
       "      <td>2353</td>\n",
       "      <td>宏碁</td>\n",
       "      <td>46000</td>\n",
       "      <td>12154992</td>\n",
       "      <td>12200992</td>\n",
       "    </tr>\n",
       "    <tr>\n",
       "      <th>4</th>\n",
       "      <td>2609</td>\n",
       "      <td>陽明</td>\n",
       "      <td>178000</td>\n",
       "      <td>10495900</td>\n",
       "      <td>10673900</td>\n",
       "    </tr>\n",
       "    <tr>\n",
       "      <th>...</th>\n",
       "      <td>...</td>\n",
       "      <td>...</td>\n",
       "      <td>...</td>\n",
       "      <td>...</td>\n",
       "      <td>...</td>\n",
       "    </tr>\n",
       "    <tr>\n",
       "      <th>77</th>\n",
       "      <td>3653</td>\n",
       "      <td>健策</td>\n",
       "      <td>11000</td>\n",
       "      <td>30000</td>\n",
       "      <td>41000</td>\n",
       "    </tr>\n",
       "    <tr>\n",
       "      <th>78</th>\n",
       "      <td>9917</td>\n",
       "      <td>中保科</td>\n",
       "      <td>3000</td>\n",
       "      <td>27500</td>\n",
       "      <td>30500</td>\n",
       "    </tr>\n",
       "    <tr>\n",
       "      <th>79</th>\n",
       "      <td>1707</td>\n",
       "      <td>葡萄王</td>\n",
       "      <td>7000</td>\n",
       "      <td>19100</td>\n",
       "      <td>26100</td>\n",
       "    </tr>\n",
       "    <tr>\n",
       "      <th>80</th>\n",
       "      <td>1315</td>\n",
       "      <td>達新</td>\n",
       "      <td>4000</td>\n",
       "      <td>22000</td>\n",
       "      <td>26000</td>\n",
       "    </tr>\n",
       "    <tr>\n",
       "      <th>81</th>\n",
       "      <td>1736</td>\n",
       "      <td>喬山</td>\n",
       "      <td>8000</td>\n",
       "      <td>1000</td>\n",
       "      <td>9000</td>\n",
       "    </tr>\n",
       "  </tbody>\n",
       "</table>\n",
       "<p>82 rows × 5 columns</p>\n",
       "</div>"
      ],
      "text/plain": [
       "      代號   名稱     投信買超      外資買超        合計\n",
       "0   2603   長榮  1306000  39507940  40813940\n",
       "1   2317   鴻海  1595000  31769111  33364111\n",
       "2   2409   友達   934000  20971906  21905906\n",
       "3   2353   宏碁    46000  12154992  12200992\n",
       "4   2609   陽明   178000  10495900  10673900\n",
       "..   ...  ...      ...       ...       ...\n",
       "77  3653   健策    11000     30000     41000\n",
       "78  9917  中保科     3000     27500     30500\n",
       "79  1707  葡萄王     7000     19100     26100\n",
       "80  1315   達新     4000     22000     26000\n",
       "81  1736   喬山     8000      1000      9000\n",
       "\n",
       "[82 rows x 5 columns]"
      ]
     },
     "execution_count": 16,
     "metadata": {},
     "output_type": "execute_result"
    }
   ],
   "source": [
    "buythemost = pd.merge(buy(toxing),buy(foreign))\n",
    "buythemost['合計']=buythemost['投信買超']+buythemost['外資買超']\n",
    "buythemost.sort_values('合計',ascending=False).reset_index(drop = True)"
   ]
  },
  {
   "cell_type": "markdown",
   "metadata": {},
   "source": [
    "# 整合買賣的函式"
   ]
  },
  {
   "cell_type": "code",
   "execution_count": 23,
   "metadata": {},
   "outputs": [],
   "source": [
    "# cdate = str(today)[0:4]+str(today)[5:7]+str(today)[8:10] #當天日期直接讀取\n",
    "cdate = \"20210318\"\n",
    "\n",
    "toxing=\"https://www.twse.com.tw/fund/TWT44U?response=html&date=%s\"%cdate\n",
    "foreign=\"https://www.twse.com.tw/fund/TWT38U?response=html&date=%s\"%cdate\n",
    "\n",
    "def tw(torf, bors):\n",
    "    data2  = pd.read_html(torf)\n",
    "    df2 = data2[0]\n",
    "    need2 = [df2.columns[1], df2.columns[2], df2.columns[5]] #取出我要的東西\n",
    "    alldata = df2[need2] #把資料換成dataframe\n",
    "    if \"44\" in torf:\n",
    "        alldata.columns = ['代號','名稱','投信賣超']\n",
    "    else:\n",
    "        alldata.columns = ['代號','名稱','外資賣超']\n",
    "    \n",
    "    for i in range(len(alldata.index)):\n",
    "        if len(alldata[\"代號\"][i])>4:\n",
    "            alldata=alldata.drop(index=i)\n",
    "            \n",
    "    alldata = alldata.reset_index(drop=True)\n",
    "    \n",
    "    if bors==\"s\":\n",
    "        inds = alldata.loc[alldata.iloc[:,2]<0].index    \n",
    "        selldata = alldata.iloc[inds,:].reset_index(drop =True) #外資淨賣超\n",
    "        \n",
    "        return selldata\n",
    "    \n",
    "    else:\n",
    "        indb = alldata.loc[alldata.iloc[:,2]>0].index #取得index的數字再放到loc裡\n",
    "        buydata = alldata.iloc[indb,:].reset_index(drop = True) #外資淨買超\n",
    "        \n",
    "        return buydata\n",
    "    "
   ]
  },
  {
   "cell_type": "code",
   "execution_count": 28,
   "metadata": {},
   "outputs": [
    {
     "data": {
      "text/html": [
       "<div>\n",
       "<style scoped>\n",
       "    .dataframe tbody tr th:only-of-type {\n",
       "        vertical-align: middle;\n",
       "    }\n",
       "\n",
       "    .dataframe tbody tr th {\n",
       "        vertical-align: top;\n",
       "    }\n",
       "\n",
       "    .dataframe thead th {\n",
       "        text-align: right;\n",
       "    }\n",
       "</style>\n",
       "<table border=\"1\" class=\"dataframe\">\n",
       "  <thead>\n",
       "    <tr style=\"text-align: right;\">\n",
       "      <th></th>\n",
       "      <th>代號</th>\n",
       "      <th>名稱</th>\n",
       "      <th>外資賣超</th>\n",
       "    </tr>\n",
       "  </thead>\n",
       "  <tbody>\n",
       "    <tr>\n",
       "      <th>0</th>\n",
       "      <td>2603</td>\n",
       "      <td>長榮</td>\n",
       "      <td>39507940</td>\n",
       "    </tr>\n",
       "    <tr>\n",
       "      <th>1</th>\n",
       "      <td>2317</td>\n",
       "      <td>鴻海</td>\n",
       "      <td>31769111</td>\n",
       "    </tr>\n",
       "    <tr>\n",
       "      <th>2</th>\n",
       "      <td>3576</td>\n",
       "      <td>聯合再生</td>\n",
       "      <td>31577700</td>\n",
       "    </tr>\n",
       "    <tr>\n",
       "      <th>3</th>\n",
       "      <td>2409</td>\n",
       "      <td>友達</td>\n",
       "      <td>20971906</td>\n",
       "    </tr>\n",
       "    <tr>\n",
       "      <th>4</th>\n",
       "      <td>2353</td>\n",
       "      <td>宏碁</td>\n",
       "      <td>12154992</td>\n",
       "    </tr>\n",
       "    <tr>\n",
       "      <th>...</th>\n",
       "      <td>...</td>\n",
       "      <td>...</td>\n",
       "      <td>...</td>\n",
       "    </tr>\n",
       "    <tr>\n",
       "      <th>532</th>\n",
       "      <td>8467</td>\n",
       "      <td>波力-KY</td>\n",
       "      <td>1000</td>\n",
       "    </tr>\n",
       "    <tr>\n",
       "      <th>533</th>\n",
       "      <td>8940</td>\n",
       "      <td>新天地</td>\n",
       "      <td>1000</td>\n",
       "    </tr>\n",
       "    <tr>\n",
       "      <th>534</th>\n",
       "      <td>9926</td>\n",
       "      <td>新海</td>\n",
       "      <td>1000</td>\n",
       "    </tr>\n",
       "    <tr>\n",
       "      <th>535</th>\n",
       "      <td>9930</td>\n",
       "      <td>中聯資源</td>\n",
       "      <td>1000</td>\n",
       "    </tr>\n",
       "    <tr>\n",
       "      <th>536</th>\n",
       "      <td>2364</td>\n",
       "      <td>倫飛</td>\n",
       "      <td>100</td>\n",
       "    </tr>\n",
       "  </tbody>\n",
       "</table>\n",
       "<p>537 rows × 3 columns</p>\n",
       "</div>"
      ],
      "text/plain": [
       "       代號     名稱      外資賣超\n",
       "0    2603     長榮  39507940\n",
       "1    2317     鴻海  31769111\n",
       "2    3576   聯合再生  31577700\n",
       "3    2409     友達  20971906\n",
       "4    2353     宏碁  12154992\n",
       "..    ...    ...       ...\n",
       "532  8467  波力-KY      1000\n",
       "533  8940    新天地      1000\n",
       "534  9926     新海      1000\n",
       "535  9930   中聯資源      1000\n",
       "536  2364     倫飛       100\n",
       "\n",
       "[537 rows x 3 columns]"
      ]
     },
     "execution_count": 28,
     "metadata": {},
     "output_type": "execute_result"
    }
   ],
   "source": [
    "tw(foreign,'b')"
   ]
  },
  {
   "cell_type": "markdown",
   "metadata": {},
   "source": [
    "# 上市投信renew"
   ]
  },
  {
   "cell_type": "code",
   "execution_count": 15,
   "metadata": {},
   "outputs": [],
   "source": [
    "df3 = pd.read_html(\"https://www.twse.com.tw/fund/TWT44U?response=html&date=20210319\")"
   ]
  },
  {
   "cell_type": "code",
   "execution_count": 19,
   "metadata": {},
   "outputs": [],
   "source": [
    "data3 = df3[0]"
   ]
  },
  {
   "cell_type": "code",
   "execution_count": 41,
   "metadata": {},
   "outputs": [],
   "source": [
    "need = [data3.columns[1],data3.columns[2],data3.columns[5]]"
   ]
  },
  {
   "cell_type": "code",
   "execution_count": 42,
   "metadata": {},
   "outputs": [
    {
     "data": {
      "text/plain": [
       "[('110年03月19日 投信買賣超彙總表', '證券代號'),\n",
       " ('110年03月19日 投信買賣超彙總表', '證券名稱'),\n",
       " ('110年03月19日 投信買賣超彙總表', '買賣超股數')]"
      ]
     },
     "execution_count": 42,
     "metadata": {},
     "output_type": "execute_result"
    }
   ],
   "source": [
    "need"
   ]
  },
  {
   "cell_type": "code",
   "execution_count": 44,
   "metadata": {},
   "outputs": [],
   "source": [
    "ddf = data3[need]"
   ]
  },
  {
   "cell_type": "code",
   "execution_count": 45,
   "metadata": {},
   "outputs": [],
   "source": [
    "ddf.columns = ['代號','名稱','買賣超']"
   ]
  },
  {
   "cell_type": "code",
   "execution_count": 46,
   "metadata": {},
   "outputs": [
    {
     "data": {
      "text/html": [
       "<div>\n",
       "<style scoped>\n",
       "    .dataframe tbody tr th:only-of-type {\n",
       "        vertical-align: middle;\n",
       "    }\n",
       "\n",
       "    .dataframe tbody tr th {\n",
       "        vertical-align: top;\n",
       "    }\n",
       "\n",
       "    .dataframe thead th {\n",
       "        text-align: right;\n",
       "    }\n",
       "</style>\n",
       "<table border=\"1\" class=\"dataframe\">\n",
       "  <thead>\n",
       "    <tr style=\"text-align: right;\">\n",
       "      <th></th>\n",
       "      <th>代號</th>\n",
       "      <th>名稱</th>\n",
       "      <th>買賣超</th>\n",
       "    </tr>\n",
       "  </thead>\n",
       "  <tbody>\n",
       "    <tr>\n",
       "      <th>0</th>\n",
       "      <td>2603</td>\n",
       "      <td>長榮</td>\n",
       "      <td>12468000</td>\n",
       "    </tr>\n",
       "    <tr>\n",
       "      <th>1</th>\n",
       "      <td>2610</td>\n",
       "      <td>華航</td>\n",
       "      <td>8097000</td>\n",
       "    </tr>\n",
       "    <tr>\n",
       "      <th>2</th>\n",
       "      <td>2317</td>\n",
       "      <td>鴻海</td>\n",
       "      <td>5492464</td>\n",
       "    </tr>\n",
       "    <tr>\n",
       "      <th>3</th>\n",
       "      <td>3481</td>\n",
       "      <td>群創</td>\n",
       "      <td>5045000</td>\n",
       "    </tr>\n",
       "    <tr>\n",
       "      <th>4</th>\n",
       "      <td>2891</td>\n",
       "      <td>中信金</td>\n",
       "      <td>2310730</td>\n",
       "    </tr>\n",
       "    <tr>\n",
       "      <th>...</th>\n",
       "      <td>...</td>\n",
       "      <td>...</td>\n",
       "      <td>...</td>\n",
       "    </tr>\n",
       "    <tr>\n",
       "      <th>206</th>\n",
       "      <td>2059</td>\n",
       "      <td>川湖</td>\n",
       "      <td>-1000</td>\n",
       "    </tr>\n",
       "    <tr>\n",
       "      <th>207</th>\n",
       "      <td>2101</td>\n",
       "      <td>南港</td>\n",
       "      <td>-1000</td>\n",
       "    </tr>\n",
       "    <tr>\n",
       "      <th>208</th>\n",
       "      <td>2201</td>\n",
       "      <td>裕隆</td>\n",
       "      <td>-1000</td>\n",
       "    </tr>\n",
       "    <tr>\n",
       "      <th>209</th>\n",
       "      <td>9904</td>\n",
       "      <td>寶成</td>\n",
       "      <td>0</td>\n",
       "    </tr>\n",
       "    <tr>\n",
       "      <th>210</th>\n",
       "      <td>9921</td>\n",
       "      <td>巨大</td>\n",
       "      <td>0</td>\n",
       "    </tr>\n",
       "  </tbody>\n",
       "</table>\n",
       "<p>211 rows × 3 columns</p>\n",
       "</div>"
      ],
      "text/plain": [
       "       代號   名稱       買賣超\n",
       "0    2603   長榮  12468000\n",
       "1    2610   華航   8097000\n",
       "2    2317   鴻海   5492464\n",
       "3    3481   群創   5045000\n",
       "4    2891  中信金   2310730\n",
       "..    ...  ...       ...\n",
       "206  2059   川湖     -1000\n",
       "207  2101   南港     -1000\n",
       "208  2201   裕隆     -1000\n",
       "209  9904   寶成         0\n",
       "210  9921   巨大         0\n",
       "\n",
       "[211 rows x 3 columns]"
      ]
     },
     "execution_count": 46,
     "metadata": {},
     "output_type": "execute_result"
    }
   ],
   "source": [
    "ddf"
   ]
  },
  {
   "cell_type": "code",
   "execution_count": 56,
   "metadata": {},
   "outputs": [],
   "source": [
    "for i in range(len(ddf.index)):\n",
    "    if len(str(ddf['代號'][i]))>4:\n",
    "        print(ddf['代號'][i])"
   ]
  },
  {
   "cell_type": "code",
   "execution_count": 57,
   "metadata": {},
   "outputs": [
    {
     "data": {
      "text/plain": [
       "4"
      ]
     },
     "execution_count": 57,
     "metadata": {},
     "output_type": "execute_result"
    }
   ],
   "source": [
    "len(str(ddf[\"代號\"][0]))"
   ]
  },
  {
   "cell_type": "code",
   "execution_count": null,
   "metadata": {},
   "outputs": [],
   "source": []
  }
 ],
 "metadata": {
  "kernelspec": {
   "display_name": "Python 3",
   "language": "python",
   "name": "python3"
  },
  "language_info": {
   "codemirror_mode": {
    "name": "ipython",
    "version": 3
   },
   "file_extension": ".py",
   "mimetype": "text/x-python",
   "name": "python",
   "nbconvert_exporter": "python",
   "pygments_lexer": "ipython3",
   "version": "3.7.10"
  }
 },
 "nbformat": 4,
 "nbformat_minor": 4
}

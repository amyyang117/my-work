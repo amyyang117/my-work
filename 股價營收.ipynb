{
 "cells": [
  {
   "cell_type": "code",
   "execution_count": 1,
   "id": "polyphonic-teens",
   "metadata": {},
   "outputs": [],
   "source": [
    "%matplotlib inline\n",
    "import pandas as pd\n",
    "import matplotlib.pyplot as plt\n",
    "import numpy as np\n",
    "import pandas_datareader as pdr"
   ]
  },
  {
   "cell_type": "code",
   "execution_count": 3,
   "id": "sharing-influence",
   "metadata": {},
   "outputs": [],
   "source": [
    "df = pd.read_csv(\"http://mopsfin.twse.com.tw/opendata/t187ap05_L.csv\")"
   ]
  },
  {
   "cell_type": "code",
   "execution_count": 4,
   "id": "moral-clinic",
   "metadata": {},
   "outputs": [
    {
     "data": {
      "text/html": [
       "<div>\n",
       "<style scoped>\n",
       "    .dataframe tbody tr th:only-of-type {\n",
       "        vertical-align: middle;\n",
       "    }\n",
       "\n",
       "    .dataframe tbody tr th {\n",
       "        vertical-align: top;\n",
       "    }\n",
       "\n",
       "    .dataframe thead th {\n",
       "        text-align: right;\n",
       "    }\n",
       "</style>\n",
       "<table border=\"1\" class=\"dataframe\">\n",
       "  <thead>\n",
       "    <tr style=\"text-align: right;\">\n",
       "      <th></th>\n",
       "      <th>出表日期</th>\n",
       "      <th>資料年月</th>\n",
       "      <th>公司代號</th>\n",
       "      <th>公司名稱</th>\n",
       "      <th>產業別</th>\n",
       "      <th>營業收入-當月營收</th>\n",
       "      <th>營業收入-上月營收</th>\n",
       "      <th>營業收入-去年當月營收</th>\n",
       "      <th>營業收入-上月比較增減(%)</th>\n",
       "      <th>營業收入-去年同月增減(%)</th>\n",
       "      <th>累計營業收入-當月累計營收</th>\n",
       "      <th>累計營業收入-去年累計營收</th>\n",
       "      <th>累計營業收入-前期比較增減(%)</th>\n",
       "      <th>備註</th>\n",
       "    </tr>\n",
       "  </thead>\n",
       "  <tbody>\n",
       "    <tr>\n",
       "      <th>0</th>\n",
       "      <td>1100323</td>\n",
       "      <td>11002</td>\n",
       "      <td>1101</td>\n",
       "      <td>台泥</td>\n",
       "      <td>水泥工業</td>\n",
       "      <td>4536849</td>\n",
       "      <td>8596261</td>\n",
       "      <td>5000692</td>\n",
       "      <td>-47.222996</td>\n",
       "      <td>-9.275576</td>\n",
       "      <td>13133110</td>\n",
       "      <td>12502833</td>\n",
       "      <td>5.041073</td>\n",
       "      <td>-</td>\n",
       "    </tr>\n",
       "    <tr>\n",
       "      <th>1</th>\n",
       "      <td>1100323</td>\n",
       "      <td>11002</td>\n",
       "      <td>1102</td>\n",
       "      <td>亞泥</td>\n",
       "      <td>水泥工業</td>\n",
       "      <td>3450204</td>\n",
       "      <td>7436331</td>\n",
       "      <td>2851105</td>\n",
       "      <td>-53.603410</td>\n",
       "      <td>21.012870</td>\n",
       "      <td>10886535</td>\n",
       "      <td>8061424</td>\n",
       "      <td>35.044813</td>\n",
       "      <td>-</td>\n",
       "    </tr>\n",
       "    <tr>\n",
       "      <th>2</th>\n",
       "      <td>1100323</td>\n",
       "      <td>11002</td>\n",
       "      <td>1103</td>\n",
       "      <td>嘉泥</td>\n",
       "      <td>水泥工業</td>\n",
       "      <td>145091</td>\n",
       "      <td>195482</td>\n",
       "      <td>150813</td>\n",
       "      <td>-25.777821</td>\n",
       "      <td>-3.794103</td>\n",
       "      <td>340573</td>\n",
       "      <td>315842</td>\n",
       "      <td>7.830181</td>\n",
       "      <td>-</td>\n",
       "    </tr>\n",
       "    <tr>\n",
       "      <th>3</th>\n",
       "      <td>1100323</td>\n",
       "      <td>11002</td>\n",
       "      <td>1104</td>\n",
       "      <td>環泥</td>\n",
       "      <td>水泥工業</td>\n",
       "      <td>354013</td>\n",
       "      <td>511466</td>\n",
       "      <td>414075</td>\n",
       "      <td>-30.784646</td>\n",
       "      <td>-14.505102</td>\n",
       "      <td>865479</td>\n",
       "      <td>774041</td>\n",
       "      <td>11.813069</td>\n",
       "      <td>-</td>\n",
       "    </tr>\n",
       "    <tr>\n",
       "      <th>4</th>\n",
       "      <td>1100323</td>\n",
       "      <td>11002</td>\n",
       "      <td>1108</td>\n",
       "      <td>幸福</td>\n",
       "      <td>水泥工業</td>\n",
       "      <td>279071</td>\n",
       "      <td>417355</td>\n",
       "      <td>390288</td>\n",
       "      <td>-33.133424</td>\n",
       "      <td>-28.496136</td>\n",
       "      <td>696426</td>\n",
       "      <td>686683</td>\n",
       "      <td>1.418850</td>\n",
       "      <td>-</td>\n",
       "    </tr>\n",
       "  </tbody>\n",
       "</table>\n",
       "</div>"
      ],
      "text/plain": [
       "      出表日期   資料年月  公司代號 公司名稱   產業別  營業收入-當月營收  營業收入-上月營收  營業收入-去年當月營收  \\\n",
       "0  1100323  11002  1101   台泥  水泥工業    4536849    8596261      5000692   \n",
       "1  1100323  11002  1102   亞泥  水泥工業    3450204    7436331      2851105   \n",
       "2  1100323  11002  1103   嘉泥  水泥工業     145091     195482       150813   \n",
       "3  1100323  11002  1104   環泥  水泥工業     354013     511466       414075   \n",
       "4  1100323  11002  1108   幸福  水泥工業     279071     417355       390288   \n",
       "\n",
       "   營業收入-上月比較增減(%)  營業收入-去年同月增減(%)  累計營業收入-當月累計營收  累計營業收入-去年累計營收  \\\n",
       "0      -47.222996       -9.275576       13133110       12502833   \n",
       "1      -53.603410       21.012870       10886535        8061424   \n",
       "2      -25.777821       -3.794103         340573         315842   \n",
       "3      -30.784646      -14.505102         865479         774041   \n",
       "4      -33.133424      -28.496136         696426         686683   \n",
       "\n",
       "   累計營業收入-前期比較增減(%) 備註  \n",
       "0          5.041073  -  \n",
       "1         35.044813  -  \n",
       "2          7.830181  -  \n",
       "3         11.813069  -  \n",
       "4          1.418850  -  "
      ]
     },
     "execution_count": 4,
     "metadata": {},
     "output_type": "execute_result"
    }
   ],
   "source": [
    "df.head()"
   ]
  },
  {
   "cell_type": "code",
   "execution_count": 6,
   "id": "conceptual-proposal",
   "metadata": {},
   "outputs": [
    {
     "data": {
      "text/plain": [
       "11002"
      ]
     },
     "execution_count": 6,
     "metadata": {},
     "output_type": "execute_result"
    }
   ],
   "source": [
    "df.資料年月[0]"
   ]
  },
  {
   "cell_type": "code",
   "execution_count": null,
   "id": "transparent-berlin",
   "metadata": {},
   "outputs": [],
   "source": []
  }
 ],
 "metadata": {
  "kernelspec": {
   "display_name": "Python 3",
   "language": "python",
   "name": "python3"
  },
  "language_info": {
   "codemirror_mode": {
    "name": "ipython",
    "version": 3
   },
   "file_extension": ".py",
   "mimetype": "text/x-python",
   "name": "python",
   "nbconvert_exporter": "python",
   "pygments_lexer": "ipython3",
   "version": "3.7.10"
  }
 },
 "nbformat": 4,
 "nbformat_minor": 5
}
